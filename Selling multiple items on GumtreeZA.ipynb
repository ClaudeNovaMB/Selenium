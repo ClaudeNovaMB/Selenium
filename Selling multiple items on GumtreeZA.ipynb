{
 "cells": [
  {
   "cell_type": "code",
   "execution_count": null,
   "metadata": {},
   "outputs": [],
   "source": [
    "from selenium import webdriver\n",
    "from selenium.webdriver.common.by import By\n",
    "from selenium.webdriver.common.keys import Keys\n",
    "from selenium.webdriver.support.ui import Select\n",
    "import time\n",
    "import numpy as np\n",
    "import pandas as pd\n",
    "import os\n",
    "user_name = '' # Add your email address\n",
    "password = '' # Add your password\n",
    "driver = webdriver.Chrome(executable_path=\"\") # Add your webdriver path (\"location\")\n",
    "time.sleep(2)\n",
    "driver.maximize_window()\n",
    "driver.get(\"https://www.gumtree.co.za/login.html\")\n",
    "time.sleep(5)\n",
    "elem = driver.find_element_by_name('email')\n",
    "elem.send_keys(str(user_name))\n",
    "elem = driver.find_element_by_name('password')\n",
    "elem.send_keys(str(password))\n",
    "driver.find_element_by_id('login-button').click()\n",
    "time.sleep(2)\n",
    "driver.get(\"https://www.gumtree.co.za/post.html\")\n",
    "time.sleep(2)\n"
   ]
  },
  {
   "attachments": {},
   "cell_type": "markdown",
   "metadata": {},
   "source": [
    "I found it useful to use excel as the mini database. (For the 22 items I was selling)  \n",
    "Headings for my excel doc were:  \n",
    ">Category | Option1 | Subcategory1 | Option2 | Subcategory2 | Option3 | Item | Price | Title | Description | Pics  \n",
    "\n",
    "Also, the trick for adding pic was to use AutoIt. Webdrivers cant interact with Windows windows (load pics window).\n",
    "AutoIt compiles the OS instructions as an executable which Python os library can run.  \n",
    "\n",
    "Not the most optimal implimentation but it did the job!"
   ]
  },
  {
   "cell_type": "code",
   "execution_count": null,
   "metadata": {},
   "outputs": [],
   "source": [
    "item_info = pd.read_excel(\"\") # Add path to excel doc\n",
    "counter = -1"
   ]
  },
  {
   "attachments": {},
   "cell_type": "markdown",
   "metadata": {},
   "source": [
    "I inspected Gumtree's Html code for each category and subcategory ref number per item\n",
    "> (ie Home & Garden - 9175 >> Furniture - 9181 >> Furniture sets - 9281)"
   ]
  },
  {
   "cell_type": "code",
   "execution_count": null,
   "metadata": {},
   "outputs": [],
   "source": [
    "for item in range():\n",
    "    elem = driver.find_element_by_xpath('//*[@id=\"wrapper\"]/div[3]/div[4]/ul/li[4]/div[2]')\n",
    "    elem.click()\n",
    "    time.sleep(0.5)\n",
    "    counter = counter + 1\n",
    "    \n",
    "    #Adding Title\n",
    "    title = item_info['Title'][counter]\n",
    "    elem_Title = driver.find_element_by_xpath('//*[@id=\"wrapper\"]/div[3]/div[6]/div[1]/div[2]/div[1]/textarea')\n",
    "    elem_Title.send_keys(str(title))\n",
    "    \n",
    "    #Adding Category\n",
    "    category = int(item_info['Option1'][counter])\n",
    "    elem_cat = Select(driver.find_element_by_tag_name(\"select\"))\n",
    "    elem_cat.select_by_value(str(category))\n",
    "    time.sleep(0.5)\n",
    "    category = int(item_info['Option2'][counter])\n",
    "    elem_cat = Select(driver.find_element_by_xpath('//*[@id=\"wrapper\"]/div[3]/div[6]/div[2]/div[2]/div[2]/select'))\n",
    "    elem_cat.select_by_value(str(category))\n",
    "    time.sleep(0.5)\n",
    "    \n",
    "    #Adding Description\n",
    "    description = item_info['Description'][counter]\n",
    "    elem_des = driver.switch_to.frame('iframe-description')\n",
    "    elem_des = driver.find_element_by_tag_name('body')\n",
    "    elem_des.send_keys(description)\n",
    "    time.sleep(.5)\n",
    "    \n",
    "    #Adding Pic (Remember to compile instructions in AutoIt prior to running this section)\n",
    "    elem_pic = driver.switch_to.default_content()\n",
    "    elem_pic = driver.find_element_by_class_name('icon-camera-big').click()\n",
    "    time.sleep(0.5)\n",
    "    exe = str(item_info['Pics'][counter])\n",
    "    os.system('C:\\\\Pics\\\\'+exe+'.exe')\n",
    "    time.sleep(7)\n",
    "    \n",
    "    #Adding Price\n",
    "    price = item_info['Price'][counter]\n",
    "    elem_prc = driver.find_element(By.XPATH,'//*[@id=\"wrapper\"]/div[3]/div[6]/div[13]/div[2]/div/input').send_keys(str(price))\n",
    "    driver.find_element_by_xpath('//*[@id=\"wrapper\"]/div[3]/div[6]/div[14]/div[2]/input').send_keys('') # Add you phone number\n",
    "    time.sleep(.3)\n",
    "    \n",
    "    #Adding a further subcategory\n",
    "    if int(item_info['Option3'][counter]) != 0:\n",
    "        category = int(item_info['Option3'][counter])\n",
    "        elem_cat = Select(driver.find_element_by_css_selector('#wrapper > div.postad-content > div:nth-child(6) > div.post-ad-category > div.category-selection > div:nth-child(3) > select'))\n",
    "        elem_cat.select_by_value(str(category))\n",
    "        time.sleep(.5)\n",
    "        driver.find_element_by_xpath('//*[@id=\"wrapper\"]/div[3]/div[6]/div[18]/div/div/span[1]').click()\n",
    "        time.sleep(5)\n",
    "        driver.get(\"https://www.gumtree.co.za/post.html\")\n",
    "        time.sleep(2)\n",
    "    else:\n",
    "        driver.find_element_by_xpath('//*[@id=\"wrapper\"]/div[3]/div[6]/div[18]/div/div/span[1]').click()\n",
    "        time.sleep(5)\n",
    "        driver.get(\"https://www.gumtree.co.za/post.html\")\n",
    "        time.sleep(2) "
   ]
  }
 ],
 "metadata": {
  "kernelspec": {
   "display_name": "Python 3",
   "language": "python",
   "name": "python3"
  },
  "language_info": {
   "codemirror_mode": {
    "name": "ipython",
    "version": 3
   },
   "file_extension": ".py",
   "mimetype": "text/x-python",
   "name": "python",
   "nbconvert_exporter": "python",
   "pygments_lexer": "ipython3",
   "version": "3.7.1"
  }
 },
 "nbformat": 4,
 "nbformat_minor": 2
}
